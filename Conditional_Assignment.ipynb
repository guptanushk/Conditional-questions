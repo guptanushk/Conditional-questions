{
 "cells": [
  {
   "cell_type": "raw",
   "id": "d40a11a9-b620-4fa2-a0a5-9b2d6107117f",
   "metadata": {},
   "source": [
    "1. Write a program to accept percentage from the user and display the grade according to the following \n",
    "criteria: \n",
    "Marks \n",
    "Grade \n",
    ">90 \n",
    "A \n",
    ">80 and <=90 \n",
    "B \n",
    ">=60 and <=80 \n",
    "C \n",
    "below 60 \n",
    "D\n",
    "\n"
   ]
  },
  {
   "cell_type": "code",
   "execution_count": 9,
   "id": "e0e0f281-e642-475e-9a45-8aa32832692f",
   "metadata": {},
   "outputs": [
    {
     "name": "stdin",
     "output_type": "stream",
     "text": [
      "Enter your percentage 85\n"
     ]
    },
    {
     "name": "stdout",
     "output_type": "stream",
     "text": [
      "Grade = B\n"
     ]
    }
   ],
   "source": [
    "Percentage = int(input(\"Enter your percentage\"))\n",
    "if Percentage >90:\n",
    "    print (\"Grade = A\")\n",
    "elif Percentage <=90 and Percentage >80:\n",
    "    print (\"Grade = B\")\n",
    "elif Percentage <=80 and Percentage >=60:\n",
    "    print (\"Grade = C\")\n",
    "elif Percentage <60:\n",
    "    print (\"Grade = D\")\n",
    "else:\n",
    "    print (\"Wrong input\")"
   ]
  },
  {
   "cell_type": "raw",
   "id": "72a340ae-9edc-4dc4-acdb-43da874bd99b",
   "metadata": {},
   "source": [
    "2. Write a program to accept the cost price of a bike and display the road tax to be paid according to the \n",
    "following criteria: \n",
    "Tax \n",
    "15% \n",
    "10% \n",
    "5% \n",
    "Cost Price(in Rs) \n",
    ">100000 \n",
    "50000 and <= 100000 \n",
    "<= 50000 \n",
    "\n"
   ]
  },
  {
   "cell_type": "code",
   "execution_count": 11,
   "id": "1ea2f9d9-006e-4093-b1a4-d57c9bc0f9ce",
   "metadata": {},
   "outputs": [
    {
     "name": "stdin",
     "output_type": "stream",
     "text": [
      "Enter the cost price of your bike :  50000\n"
     ]
    },
    {
     "name": "stdout",
     "output_type": "stream",
     "text": [
      "Road tax to be paid is  2500.0\n"
     ]
    }
   ],
   "source": [
    "cost = int(input(\"Enter the cost price of your bike : \"))\n",
    "if cost >100000:\n",
    "    print (\"Road tax to be paid is \",cost*(15/100))\n",
    "elif cost <=100000 and cost >50000:\n",
    "    print (\"Road tax to be paid is \",cost*(10/100))\n",
    "elif cost <=50000:\n",
    "    print (\"Road tax to be paid is \",cost*(5/100))\n",
    "else:\n",
    "    print (\"Wrong input\")\n",
    "    \n",
    "    \n",
    "    "
   ]
  },
  {
   "cell_type": "raw",
   "id": "2210b202-6202-42cb-a7f9-58744aa54297",
   "metadata": {},
   "source": [
    "3. Accept any city from the user and display monuments of that city. \n",
    "City \n",
    "Delhi \n",
    "Monument \n",
    "Red Fort \n",
    "Taj Mahal \n",
    "Agra \n",
    "Jaipur \n",
    "Jal Mahal"
   ]
  },
  {
   "cell_type": "code",
   "execution_count": 15,
   "id": "a5e7ba3b-6738-4b2e-bd62-bd69cbcfa898",
   "metadata": {},
   "outputs": [
    {
     "name": "stdin",
     "output_type": "stream",
     "text": [
      "Enter the city name from the following list [Delhi,Agra,Jaipur]: Lucknow\n"
     ]
    },
    {
     "name": "stdout",
     "output_type": "stream",
     "text": [
      "Wrong input\n"
     ]
    }
   ],
   "source": [
    "city = input(\"Enter the city name from the following list [Delhi,Agra,Jaipur]:\")\n",
    "if city == 'Delhi':\n",
    "    print (\"Monument located is Red Fort\")\n",
    "elif city == 'Agra':\n",
    "    print (\"Monument located is Taj Mahal\")\n",
    "elif city == 'Jaipur':\n",
    "    print (\"Monument located is Jal Mahal\")\n",
    "else:\n",
    "    print (\"Wrong input\")"
   ]
  },
  {
   "cell_type": "raw",
   "id": "6f317ba5-8cdb-4811-8a65-e891a154fd9a",
   "metadata": {},
   "source": [
    "4. Check how many times a given number can be divided by 3 before it is less than or equal to 10. \n"
   ]
  },
  {
   "cell_type": "code",
   "execution_count": 30,
   "id": "d63517d6-55ed-45df-b024-3a3d89907097",
   "metadata": {},
   "outputs": [
    {
     "name": "stdin",
     "output_type": "stream",
     "text": [
      "Enter any number :  36\n"
     ]
    },
    {
     "name": "stdout",
     "output_type": "stream",
     "text": [
      "Total no. of times a given number can be divided by 3 before it is less than or equal to 10 is  2\n"
     ]
    }
   ],
   "source": [
    "number = int(input(\"Enter any number : \"))\n",
    "count =0\n",
    "if number <= 10:\n",
    "        print(\"Total no. of times a given number can be divided by 3 before it is less than or equal to 10 is \",count)\n",
    "while number>10:\n",
    "    if number % 3 == 0:\n",
    "        count+=1\n",
    "        number /= 3\n",
    "if number <= 10:\n",
    "        print(\"Total no. of times a given number can be divided by 3 before it is less than or equal to 10 is \",count)\n",
    "    "
   ]
  },
  {
   "cell_type": "raw",
   "id": "baccb7a1-0c1b-4926-9b0f-7db9171e97fa",
   "metadata": {},
   "source": [
    "5. Why and When to Use while Loop in Python give a detailed description with example \n"
   ]
  },
  {
   "cell_type": "raw",
   "id": "87d19313-f90a-4a8d-9a51-a88d5b187ff3",
   "metadata": {},
   "source": [
    "Answer 5 :\n",
    "Python programming language provide many built in methods or functions,which we can use as per our needs and from that a feature is available in loops method as a while loop which is very helpful in many situation,for example\n",
    "*if we have to run a loop till the given condition is true we use while loop\n",
    "*it can run infinite times as per our given conditions\n",
    "*Syntax \n",
    "    while condition:\n",
    "*For example refer question no.4 please in which we use the while loop thanks"
   ]
  },
  {
   "cell_type": "raw",
   "id": "d5428cc2-d26d-45f5-9553-7cfea98b4a75",
   "metadata": {},
   "source": [
    "6. Use nested while loop to print 3 different pattern. \n"
   ]
  },
  {
   "cell_type": "code",
   "execution_count": null,
   "id": "e22ea581-2ab7-4536-ab53-cb7697233dc8",
   "metadata": {},
   "outputs": [],
   "source": [
    "star = int(input(\"Enter no. of stars \"))\n",
    "while star>0:\n",
    "    while star>20:\n",
    "        count = 1\n",
    "        for i in range (count):\n",
    "            print(\"*\")\n",
    "        \n",
    "        count+=1\n",
    "        star-=1\n",
    "    while star>10:\n",
    "        count1 = 10\n",
    "        for j in range (count):\n",
    "            print(\"*\")\n",
    "        \n",
    "        count1-=1\n",
    "        star-=1\n",
    "    star = 0\n",
    "    "
   ]
  },
  {
   "cell_type": "raw",
   "id": "551d965a-59b2-4f33-8b73-576167eb03c0",
   "metadata": {},
   "source": [
    "7. Reverse a while loop to display numbers from 10 to 1. \n"
   ]
  },
  {
   "cell_type": "code",
   "execution_count": null,
   "id": "e5a6ca70-6efc-41b6-98eb-72647e9890e1",
   "metadata": {},
   "outputs": [],
   "source": [
    "def reverse():\n",
    "    number =10\n",
    "    while number >=1:\n",
    "        print(\" \",number)\n",
    "        number-=1"
   ]
  },
  {
   "cell_type": "code",
   "execution_count": null,
   "id": "c95874e1-8bc8-4da6-8a24-1d6421fc93bd",
   "metadata": {},
   "outputs": [],
   "source": [
    "reverse()"
   ]
  },
  {
   "cell_type": "raw",
   "id": "dec199a5-c60f-4dff-bc22-ecdd8b8d5612",
   "metadata": {},
   "source": [
    "8. Reverse a while loop to display numbers from 10 to 1 \n",
    "\n"
   ]
  },
  {
   "cell_type": "raw",
   "id": "a61b07aa-b929-4698-b3fb-511f55201b91",
   "metadata": {},
   "source": [
    "Answer 8:\n",
    "Question 7 and 8 are same "
   ]
  }
 ],
 "metadata": {
  "kernelspec": {
   "display_name": "Python 3 (ipykernel)",
   "language": "python",
   "name": "python3"
  },
  "language_info": {
   "codemirror_mode": {
    "name": "ipython",
    "version": 3
   },
   "file_extension": ".py",
   "mimetype": "text/x-python",
   "name": "python",
   "nbconvert_exporter": "python",
   "pygments_lexer": "ipython3",
   "version": "3.10.8"
  }
 },
 "nbformat": 4,
 "nbformat_minor": 5
}
